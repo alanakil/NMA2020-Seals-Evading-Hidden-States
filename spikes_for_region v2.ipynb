{
 "cells": [
  {
   "cell_type": "markdown",
   "metadata": {},
   "source": [
    "### This code requires the dictionaries extracted with the 'loading_in_tar' code. From these dictionaries, we extract the neural data for a given brain region. A filter is set to only take spikes that were given a phy annotation of 2, indicating a good sort. "
   ]
  },
  {
   "cell_type": "code",
   "execution_count": null,
   "metadata": {},
   "outputs": [],
   "source": [
    "## getting just VISp data (V1)\n",
    "# end result: dictionary with keys: session and values: spike indices for the spikes that were in ROI\n",
    "\n",
    "import numpy\n",
    "\n",
    "vis_ctx = {}\n",
    "sessions = np.arange(1, 41)\n",
    "\n",
    "for s in sessions:\n",
    "    print('session:', s)\n",
    "    # find which channels are in V1\n",
    "    rows = np.shape(channel_brainLocations[s])[0] # how many channels in this session\n",
    "    channels = [] \n",
    "    for r in range(rows):\n",
    "        if channel_brainLocations[s][r]=='VISp': # this string can be modified to find data for any region\n",
    "            channels.append(r)\n",
    "        else:\n",
    "            continue\n",
    "    if len(channels)<1:\n",
    "        print('this session had no recordings in ROI')\n",
    "        continue\n",
    "    channels = np.asarray(channels)\n",
    "    \n",
    "    # now find all clusters who's peak value was at this channel\n",
    "    clusters = []\n",
    "    for chan in channels:\n",
    "        more_rows = np.shape(clusters_peakChannel[s])[0] # how many clusters in this session\n",
    "        for r2 in range(more_rows):\n",
    "            if int(np.squeeze(clusters_peakChannel[s][r2])) == chan and int(np.squeeze(clusters_phy_annotation[s][r2])) == 2:\n",
    "                clusters.append(r2)\n",
    "            else:\n",
    "                continue\n",
    "        else:\n",
    "            continue\n",
    "    #print(clusters)\n",
    "    clusters = np.asarray(clusters)\n",
    "    \n",
    "    # now find all spikes who were included in this cluster\n",
    "    spikes = []\n",
    "    for clus in clusters:\n",
    "        print('cluster', clus, 'of', len(clusters))\n",
    "        most_rows = np.shape(spikes_clusters[s])[0] # how many spikes in this session\n",
    "        for r3 in range(most_rows):\n",
    "            if int(np.squeeze(spikes_clusters[s][r3])) == clus:\n",
    "                spikes.append(r3)\n",
    "                \n",
    "    spikes = np.asarray(spikes)\n",
    "    print(spikes)\n",
    "    vis_ctx[s]=spikes"
   ]
  },
  {
   "cell_type": "markdown",
   "metadata": {},
   "source": [
    "### If you want to save the resulting dictionary to an .npy file, here's the code for that."
   ]
  },
  {
   "cell_type": "code",
   "execution_count": null,
   "metadata": {},
   "outputs": [],
   "source": [
    "# EXPORT V1 SPIKE DICTIONARY to file\n",
    "\n",
    "os.chdir('/your/filepath/here')\n",
    "import pickle\n",
    "\n",
    "file_to_write = open(\"V1_spikes.npy\", \"wb\")\n",
    "pickle.dump(vis_ctx, file_to_write)"
   ]
  },
  {
   "cell_type": "markdown",
   "metadata": {},
   "source": [
    "### Now, we need to make a new dictionary for the spike timestamps that only has the values for spikes in V1."
   ]
  },
  {
   "cell_type": "code",
   "execution_count": 7,
   "metadata": {},
   "outputs": [],
   "source": [
    "import os\n",
    "import numpy as np\n",
    "\n",
    "os.chdir('/Users/srbindas/Documents/OHSU/NMA/pickles')\n",
    "vis_ctx = np.load(\"V1_spikes.npy\", allow_pickle=True)\n",
    "spikes_times = np.load('spikes_times.npy', allow_pickle=True)\n",
    "\n",
    "# initialize dictionary with the same keys as vis_ctx\n",
    "vis_timestamps = {}\n",
    "keyList = vis_ctx.keys()\n",
    "for i in keyList: \n",
    "    vis_timestamps[i] = None\n",
    "    \n",
    "for (keyTS, valueTS) in vis_timestamps.items():\n",
    "    print('session', keyTS)\n",
    "    spike_indices = vis_ctx[keyTS]\n",
    "    spiketimes = []\n",
    "    for key, value in vis_ctx.items():\n",
    "        for v in value:  \n",
    "            spiketime = spikes_times[key][v]\n",
    "            spiketimes.append(spiketime)\n",
    "        vis_timestamps[key] = np.asarray(spiketimes)\n",
    "\n",
    "print('done!')"
   ]
  },
  {
   "cell_type": "markdown",
   "metadata": {},
   "source": [
    "### Lastly, we will make a dictionary containing the cluster each V1 neuron belongs to. "
   ]
  },
  {
   "cell_type": "code",
   "execution_count": 2,
   "metadata": {},
   "outputs": [
    {
     "name": "stdout",
     "output_type": "stream",
     "text": [
      "session 5\n",
      "session 9\n",
      "session 15\n",
      "session 16\n",
      "session 18\n",
      "session 21\n",
      "session 25\n",
      "session 27\n",
      "session 30\n",
      "session 34\n",
      "session 35\n",
      "session 36\n",
      "done!\n"
     ]
    }
   ],
   "source": [
    "import os\n",
    "import numpy as np\n",
    "\n",
    "os.chdir('/Users/srbindas/Documents/OHSU/NMA/pickles')\n",
    "vis_ctx = np.load(\"V1_spikes.npy\", allow_pickle=True)\n",
    "spikes_clusters = np.load('spikes_clusters.npy', allow_pickle=True)\n",
    "\n",
    "# initialize dictionary with the same keys as vis_ctx\n",
    "vis_clusters = {}\n",
    "keyList = vis_ctx.keys()\n",
    "for i in keyList: \n",
    "    vis_clusters[i] = None\n",
    "    \n",
    "for (keyC, valueC) in vis_clusters.items():\n",
    "    print('session', keyC)\n",
    "    spike_indices = vis_ctx[keyC]\n",
    "    spike_clusters = []\n",
    "    for key, value in vis_ctx.items():\n",
    "        for v in value:  \n",
    "            spikeclus = spikes_clusters[key][v]\n",
    "            spike_clusters.append(spikeclus)\n",
    "        vis_clusters[key] = np.asarray(spike_clusters)\n",
    "\n",
    "print('done!')"
   ]
  },
  {
   "cell_type": "code",
   "execution_count": 6,
   "metadata": {},
   "outputs": [],
   "source": [
    "# EXPORT DICTIONARY to file\n",
    "\n",
    "os.chdir('/Users/srbindas/Documents/OHSU/NMA/pickles')\n",
    "import pickle\n",
    "\n",
    "file_to_write = open(\"V1_clusters.npy\", \"wb\")\n",
    "pickle.dump(vis_clusters, file_to_write)"
   ]
  },
  {
   "cell_type": "code",
   "execution_count": null,
   "metadata": {},
   "outputs": [],
   "source": []
  },
  {
   "cell_type": "code",
   "execution_count": null,
   "metadata": {},
   "outputs": [],
   "source": []
  }
 ],
 "metadata": {
  "kernelspec": {
   "display_name": "Python 3",
   "language": "python",
   "name": "python3"
  },
  "language_info": {
   "codemirror_mode": {
    "name": "ipython",
    "version": 3
   },
   "file_extension": ".py",
   "mimetype": "text/x-python",
   "name": "python",
   "nbconvert_exporter": "python",
   "pygments_lexer": "ipython3",
   "version": "3.7.6"
  }
 },
 "nbformat": 4,
 "nbformat_minor": 4
}
