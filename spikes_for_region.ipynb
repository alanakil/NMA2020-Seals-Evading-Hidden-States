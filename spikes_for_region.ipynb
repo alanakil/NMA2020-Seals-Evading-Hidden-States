{
 "cells": [
  {
   "cell_type": "markdown",
   "metadata": {},
   "source": [
    "### This code requires the dictionaries extracted with the 'loading_in_tar' code. From these dictionaries, we extract the neural data for a given brain region. A filter is set to only take spikes that were given a phy annotation of 2, indicating a good sort. "
   ]
  },
  {
   "cell_type": "code",
   "execution_count": null,
   "metadata": {},
   "outputs": [],
   "source": [
    "## getting just VISp data (V1)\n",
    "# end result: dictionary with keys: session and values: spike indices for the spikes that were in ROI\n",
    "\n",
    "import numpy\n",
    "\n",
    "vis_ctx = {}\n",
    "sessions = np.arange(1, 41)\n",
    "\n",
    "for s in sessions:\n",
    "    print('session:', s)\n",
    "    # find which channels are in V1\n",
    "    rows = np.shape(channel_brainLocations[s])[0] # how many channels in this session\n",
    "    channels = [] \n",
    "    for r in range(rows):\n",
    "        if channel_brainLocations[s][r]=='VISp': # this string can be modified to find data for any region\n",
    "            channels.append(r)\n",
    "        else:\n",
    "            continue\n",
    "    if len(channels)<1:\n",
    "        print('this session had no recordings in ROI')\n",
    "        continue\n",
    "    channels = np.asarray(channels)\n",
    "    \n",
    "    # now find all clusters who's peak value was at this channel\n",
    "    clusters = []\n",
    "    for chan in channels:\n",
    "        more_rows = np.shape(clusters_peakChannel[s])[0] # how many clusters in this session\n",
    "        for r2 in range(more_rows):\n",
    "            if int(np.squeeze(clusters_peakChannel[s][r2])) == chan and int(np.squeeze(clusters_phy_annotation[s][r2])) == 2:\n",
    "                clusters.append(r2)\n",
    "            else:\n",
    "                continue\n",
    "        else:\n",
    "            continue\n",
    "    #print(clusters)\n",
    "    clusters = np.asarray(clusters)\n",
    "    \n",
    "    # now find all spikes who were included in this cluster\n",
    "    spikes = []\n",
    "    for clus in clusters:\n",
    "        print('cluster', clus, 'of', len(clusters))\n",
    "        most_rows = np.shape(spikes_clusters[s])[0] # how many spikes in this session\n",
    "        for r3 in range(most_rows):\n",
    "            if int(np.squeeze(spikes_clusters[s][r3])) == clus:\n",
    "                spikes.append(r3)\n",
    "                \n",
    "    spikes = np.asarray(spikes)\n",
    "    print(spikes)\n",
    "    vis_ctx[s]=spikes"
   ]
  },
  {
   "cell_type": "markdown",
   "metadata": {},
   "source": [
    "### If you want to save the resulting dictionary to an .npy file, here's the code for that."
   ]
  },
  {
   "cell_type": "code",
   "execution_count": null,
   "metadata": {},
   "outputs": [],
   "source": [
    "# EXPORT V1 SPIKE DICTIONARY to file\n",
    "\n",
    "os.chdir('/your/filepath/here')\n",
    "import pickle\n",
    "\n",
    "file_to_write = open(\"V1_spikes.npy\", \"wb\")\n",
    "pickle.dump(vis_ctx, file_to_write)"
   ]
  },
  {
   "cell_type": "markdown",
   "metadata": {},
   "source": [
    "### Now, we need to make a new dictionary for the spike timestamps that only has the values for spikes in V1."
   ]
  },
  {
   "cell_type": "code",
   "execution_count": null,
   "metadata": {},
   "outputs": [],
   "source": [
    "# initialize dictionary with the same keys as vis_ctx\n",
    "vis_timestamps = {}\n",
    "keyList = vis_ctx.keys()\n",
    "for i in keyList: \n",
    "    vis_timestamps[i] = None\n",
    "    \n",
    "# iterate over all the items in dictionary and filter items which have even keys\n",
    "for (key, value) in vis_ctx.items(): \n",
    "    for (keyTS, valueTS) in vis_timestamps.items():\n",
    "        if key == keyTS: # if keys are equal, move spiketime values to new dict\n",
    "            spiketimes = []\n",
    "            for v in value:\n",
    "                spiketime = spikes_times[key][v]\n",
    "                spiketimes.append(spiketime)\n",
    "            vis_timestamps[key] = np.asarray(spiketimes)\n",
    "\n",
    "print('done!')"
   ]
  }
 ],
 "metadata": {
  "kernelspec": {
   "display_name": "Python 3",
   "language": "python",
   "name": "python3"
  },
  "language_info": {
   "codemirror_mode": {
    "name": "ipython",
    "version": 3
   },
   "file_extension": ".py",
   "mimetype": "text/x-python",
   "name": "python",
   "nbconvert_exporter": "python",
   "pygments_lexer": "ipython3",
   "version": "3.7.6"
  }
 },
 "nbformat": 4,
 "nbformat_minor": 4
}
