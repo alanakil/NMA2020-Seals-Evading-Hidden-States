{
 "cells": [
  {
   "cell_type": "markdown",
   "metadata": {},
   "source": [
    "### This code loads in the .npy files we created with the 'loading_in_tar' script, giving us dictionaries with our variables of interest."
   ]
  },
  {
   "cell_type": "code",
   "execution_count": 4,
   "metadata": {},
   "outputs": [
    {
     "name": "stdout",
     "output_type": "stream",
     "text": [
      "all files loaded in!\n"
     ]
    }
   ],
   "source": [
    "import numpy as np\n",
    "import os\n",
    "\n",
    "## loading pickle files you have saved\n",
    "# wherever you have your pickles saved to \n",
    "os.chdir('/your/filepath/here')\n",
    "         \n",
    "name_of_vars = ['spike_clusters', 'spikes_times', 'channel_brainLocations', 'clusters_phy_annotation',\n",
    "               'clusters_peakChannel', 'trial_intervals', 'goCue_times', 'feedback_types', 'feedback_times',\n",
    "               'response_choices', 'response_times', 'stimContrast_left', 'stimContrast_right', 'stim_times',\n",
    "               'eye_area', 'eye_times', 'face_energy', 'face_times']\n",
    "\n",
    "spike_clusters = np.load('spike_clusters.npy', allow_pickle=True)\n",
    "spikes_times = np.load('spikes_times.npy', allow_pickle=True)\n",
    "\n",
    "channel_brainLocations = np.load('channel_brainLocations.npy', allow_pickle=True)\n",
    "clusters_phy_annotation = np.load('clusters_phy_annotation.npy', allow_pickle=True)\n",
    "clusters_peakChannel = np.load('clusters_peakChannel.npy', allow_pickle=True)\n",
    "\n",
    "trial_intervals = np.load('trial_intervals.npy', allow_pickle=True)\n",
    "goCue_times = np.load('goCue_times.npy', allow_pickle=True)\n",
    "feedback_types = np.load('feedback_types.npy', allow_pickle=True)\n",
    "feedback_times = np.load('feedback_times.npy', allow_pickle=True)\n",
    "response_choices = np.load('response_choices.npy', allow_pickle=True)\n",
    "response_times = np.load('response_times.npy', allow_pickle=True)\n",
    "stimContrast_left = np.load('stimContrast_left.npy', allow_pickle=True)\n",
    "stimContrast_right = np.load('stimContrast_right.npy', allow_pickle=True)\n",
    "stim_times = np.load('stim_times.npy', allow_pickle=True)\n",
    "eye_area = np.load('eye_area.npy', allow_pickle=True)\n",
    "eye_times = np.load('eye_times.npy', allow_pickle=True)\n",
    "face_energy = np.load('face_energy.npy', allow_pickle=True)\n",
    "face_times = np.load('face_times.npy', allow_pickle=True)\n",
    "         \n",
    "print('all files loaded in!')"
   ]
  },
  {
   "cell_type": "code",
   "execution_count": null,
   "metadata": {},
   "outputs": [],
   "source": []
  },
  {
   "cell_type": "code",
   "execution_count": null,
   "metadata": {},
   "outputs": [],
   "source": []
  }
 ],
 "metadata": {
  "kernelspec": {
   "display_name": "Python 3",
   "language": "python",
   "name": "python3"
  },
  "language_info": {
   "codemirror_mode": {
    "name": "ipython",
    "version": 3
   },
   "file_extension": ".py",
   "mimetype": "text/x-python",
   "name": "python",
   "nbconvert_exporter": "python",
   "pygments_lexer": "ipython3",
   "version": "3.7.6"
  }
 },
 "nbformat": 4,
 "nbformat_minor": 4
}
